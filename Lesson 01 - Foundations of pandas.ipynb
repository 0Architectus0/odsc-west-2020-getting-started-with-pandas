{
 "cells": [
  {
   "cell_type": "markdown",
   "metadata": {},
   "source": [
    "## Jupyter Notebook Cell Execution"
   ]
  },
  {
   "cell_type": "code",
   "execution_count": 1,
   "metadata": {},
   "outputs": [
    {
     "data": {
      "text/plain": [
       "2"
      ]
     },
     "execution_count": 1,
     "metadata": {},
     "output_type": "execute_result"
    }
   ],
   "source": [
    "1 + 1"
   ]
  },
  {
   "cell_type": "code",
   "execution_count": 2,
   "metadata": {},
   "outputs": [
    {
     "data": {
      "text/plain": [
       "6"
      ]
     },
     "execution_count": 2,
     "metadata": {},
     "output_type": "execute_result"
    }
   ],
   "source": [
    "2 + 2\n",
    "3 + 3"
   ]
  },
  {
   "cell_type": "markdown",
   "metadata": {},
   "source": [
    "## Import Pandas"
   ]
  },
  {
   "cell_type": "code",
   "execution_count": 3,
   "metadata": {},
   "outputs": [],
   "source": [
    "import pandas as pd"
   ]
  },
  {
   "cell_type": "markdown",
   "metadata": {},
   "source": [
    "## Create Series Object"
   ]
  },
  {
   "cell_type": "code",
   "execution_count": 4,
   "metadata": {},
   "outputs": [
    {
     "data": {
      "text/plain": [
       "0     Chocolate\n",
       "1       Vanilla\n",
       "2    Strawberry\n",
       "3    Rum Raisin\n",
       "dtype: object"
      ]
     },
     "execution_count": 4,
     "metadata": {},
     "output_type": "execute_result"
    }
   ],
   "source": [
    "ice_cream_flavors = [\"Chocolate\", \"Vanilla\", \"Strawberry\", \"Rum Raisin\"]\n",
    "pd.Series(ice_cream_flavors)"
   ]
  },
  {
   "cell_type": "markdown",
   "metadata": {},
   "source": [
    "## Parameters and Arguments"
   ]
  },
  {
   "cell_type": "code",
   "execution_count": 5,
   "metadata": {},
   "outputs": [
    {
     "data": {
      "text/plain": [
       "0     Chocolate\n",
       "1       Vanilla\n",
       "2    Strawberry\n",
       "3    Rum Raisin\n",
       "dtype: object"
      ]
     },
     "execution_count": 5,
     "metadata": {},
     "output_type": "execute_result"
    }
   ],
   "source": [
    "pd.Series(data = ice_cream_flavors)"
   ]
  },
  {
   "cell_type": "code",
   "execution_count": 6,
   "metadata": {},
   "outputs": [
    {
     "data": {
      "text/plain": [
       "Monday        Chocolate\n",
       "Wednesday       Vanilla\n",
       "Friday       Strawberry\n",
       "Saturday     Rum Raisin\n",
       "dtype: object"
      ]
     },
     "execution_count": 6,
     "metadata": {},
     "output_type": "execute_result"
    }
   ],
   "source": [
    "ice_cream_flavors = [\"Chocolate\", \"Vanilla\", \"Strawberry\", \"Rum Raisin\"]\n",
    "day_of_week = [\"Monday\", \"Wednesday\", \"Friday\", \"Saturday\"]\n",
    "\n",
    "pd.Series(ice_cream_flavors, day_of_week) # is the same as\n",
    "pd.Series(data = ice_cream_flavors, index = day_of_week)"
   ]
  },
  {
   "cell_type": "markdown",
   "metadata": {},
   "source": [
    "## Another Series Example"
   ]
  },
  {
   "cell_type": "code",
   "execution_count": 7,
   "metadata": {},
   "outputs": [
    {
     "data": {
      "text/plain": [
       "0     4\n",
       "1     8\n",
       "2    15\n",
       "3    16\n",
       "4    23\n",
       "5    42\n",
       "dtype: int64"
      ]
     },
     "execution_count": 7,
     "metadata": {},
     "output_type": "execute_result"
    }
   ],
   "source": [
    "lucky_numbers = [4, 8, 15, 16, 23, 42]\n",
    "pd.Series(lucky_numbers)"
   ]
  },
  {
   "cell_type": "markdown",
   "metadata": {},
   "source": [
    "## Importing CSV Dataset"
   ]
  },
  {
   "cell_type": "code",
   "execution_count": 8,
   "metadata": {},
   "outputs": [
    {
     "data": {
      "text/html": [
       "<div>\n",
       "<style scoped>\n",
       "    .dataframe tbody tr th:only-of-type {\n",
       "        vertical-align: middle;\n",
       "    }\n",
       "\n",
       "    .dataframe tbody tr th {\n",
       "        vertical-align: top;\n",
       "    }\n",
       "\n",
       "    .dataframe thead th {\n",
       "        text-align: right;\n",
       "    }\n",
       "</style>\n",
       "<table border=\"1\" class=\"dataframe\">\n",
       "  <thead>\n",
       "    <tr style=\"text-align: right;\">\n",
       "      <th></th>\n",
       "      <th>Pokemon</th>\n",
       "      <th>Type</th>\n",
       "    </tr>\n",
       "  </thead>\n",
       "  <tbody>\n",
       "    <tr>\n",
       "      <th>0</th>\n",
       "      <td>Bulbasaur</td>\n",
       "      <td>Grass / Poison</td>\n",
       "    </tr>\n",
       "    <tr>\n",
       "      <th>1</th>\n",
       "      <td>Ivysaur</td>\n",
       "      <td>Grass / Poison</td>\n",
       "    </tr>\n",
       "    <tr>\n",
       "      <th>2</th>\n",
       "      <td>Venusaur</td>\n",
       "      <td>Grass / Poison</td>\n",
       "    </tr>\n",
       "    <tr>\n",
       "      <th>3</th>\n",
       "      <td>Charmander</td>\n",
       "      <td>Fire</td>\n",
       "    </tr>\n",
       "    <tr>\n",
       "      <th>4</th>\n",
       "      <td>Charmeleon</td>\n",
       "      <td>Fire</td>\n",
       "    </tr>\n",
       "    <tr>\n",
       "      <th>...</th>\n",
       "      <td>...</td>\n",
       "      <td>...</td>\n",
       "    </tr>\n",
       "    <tr>\n",
       "      <th>804</th>\n",
       "      <td>Stakataka</td>\n",
       "      <td>Rock / Steel</td>\n",
       "    </tr>\n",
       "    <tr>\n",
       "      <th>805</th>\n",
       "      <td>Blacephalon</td>\n",
       "      <td>Fire / Ghost</td>\n",
       "    </tr>\n",
       "    <tr>\n",
       "      <th>806</th>\n",
       "      <td>Zeraora</td>\n",
       "      <td>Electric</td>\n",
       "    </tr>\n",
       "    <tr>\n",
       "      <th>807</th>\n",
       "      <td>Meltan</td>\n",
       "      <td>Steel</td>\n",
       "    </tr>\n",
       "    <tr>\n",
       "      <th>808</th>\n",
       "      <td>Melmetal</td>\n",
       "      <td>Steel</td>\n",
       "    </tr>\n",
       "  </tbody>\n",
       "</table>\n",
       "<p>809 rows × 2 columns</p>\n",
       "</div>"
      ],
      "text/plain": [
       "         Pokemon            Type\n",
       "0      Bulbasaur  Grass / Poison\n",
       "1        Ivysaur  Grass / Poison\n",
       "2       Venusaur  Grass / Poison\n",
       "3     Charmander            Fire\n",
       "4     Charmeleon            Fire\n",
       "..           ...             ...\n",
       "804    Stakataka    Rock / Steel\n",
       "805  Blacephalon    Fire / Ghost\n",
       "806      Zeraora        Electric\n",
       "807       Meltan           Steel\n",
       "808     Melmetal           Steel\n",
       "\n",
       "[809 rows x 2 columns]"
      ]
     },
     "execution_count": 8,
     "metadata": {},
     "output_type": "execute_result"
    }
   ],
   "source": [
    "pd.read_csv(filepath_or_buffer = \"pokemon.csv\")\n",
    "pd.read_csv(\"pokemon.csv\")"
   ]
  },
  {
   "cell_type": "code",
   "execution_count": 9,
   "metadata": {},
   "outputs": [
    {
     "data": {
      "text/plain": [
       "Pokemon\n",
       "Bulbasaur      Grass / Poison\n",
       "Ivysaur        Grass / Poison\n",
       "Venusaur       Grass / Poison\n",
       "Charmander               Fire\n",
       "Charmeleon               Fire\n",
       "                    ...      \n",
       "Stakataka        Rock / Steel\n",
       "Blacephalon      Fire / Ghost\n",
       "Zeraora              Electric\n",
       "Meltan                  Steel\n",
       "Melmetal                Steel\n",
       "Name: Type, Length: 809, dtype: object"
      ]
     },
     "execution_count": 9,
     "metadata": {},
     "output_type": "execute_result"
    }
   ],
   "source": [
    "pd.read_csv(\"pokemon.csv\", index_col = \"Pokemon\")\n",
    "pd.read_csv(\"pokemon.csv\", index_col = \"Pokemon\", squeeze = True)"
   ]
  },
  {
   "cell_type": "code",
   "execution_count": 10,
   "metadata": {},
   "outputs": [],
   "source": [
    "pokemon = pd.read_csv(\"pokemon.csv\", index_col = \"Pokemon\", squeeze = True)"
   ]
  },
  {
   "cell_type": "markdown",
   "metadata": {},
   "source": [
    "## Previewing a Series"
   ]
  },
  {
   "cell_type": "code",
   "execution_count": 11,
   "metadata": {},
   "outputs": [
    {
     "data": {
      "text/plain": [
       "Pokemon\n",
       "Bulbasaur     Grass / Poison\n",
       "Ivysaur       Grass / Poison\n",
       "Venusaur      Grass / Poison\n",
       "Charmander              Fire\n",
       "Charmeleon              Fire\n",
       "Name: Type, dtype: object"
      ]
     },
     "execution_count": 11,
     "metadata": {},
     "output_type": "execute_result"
    }
   ],
   "source": [
    "pokemon.head() # is the same as\n",
    "pokemon.head(5) # is the same as\n",
    "pokemon.head(n = 5)"
   ]
  },
  {
   "cell_type": "code",
   "execution_count": 12,
   "metadata": {},
   "outputs": [
    {
     "data": {
      "text/plain": [
       "Pokemon\n",
       "Bulbasaur    Grass / Poison\n",
       "Name: Type, dtype: object"
      ]
     },
     "execution_count": 12,
     "metadata": {},
     "output_type": "execute_result"
    }
   ],
   "source": [
    "pokemon.head(8)\n",
    "pokemon.head(1)"
   ]
  },
  {
   "cell_type": "code",
   "execution_count": 13,
   "metadata": {},
   "outputs": [
    {
     "data": {
      "text/plain": [
       "Pokemon\n",
       "Stakataka      Rock / Steel\n",
       "Blacephalon    Fire / Ghost\n",
       "Zeraora            Electric\n",
       "Meltan                Steel\n",
       "Melmetal              Steel\n",
       "Name: Type, dtype: object"
      ]
     },
     "execution_count": 13,
     "metadata": {},
     "output_type": "execute_result"
    }
   ],
   "source": [
    "pokemon.tail() # is the same as\n",
    "pokemon.tail(5)"
   ]
  },
  {
   "cell_type": "code",
   "execution_count": 14,
   "metadata": {},
   "outputs": [
    {
     "data": {
      "text/plain": [
       "Pokemon\n",
       "Zeraora     Electric\n",
       "Meltan         Steel\n",
       "Melmetal       Steel\n",
       "Name: Type, dtype: object"
      ]
     },
     "execution_count": 14,
     "metadata": {},
     "output_type": "execute_result"
    }
   ],
   "source": [
    "pokemon.tail(3)"
   ]
  },
  {
   "cell_type": "markdown",
   "metadata": {},
   "source": [
    "## Sorting a Series by Values"
   ]
  },
  {
   "cell_type": "code",
   "execution_count": 15,
   "metadata": {},
   "outputs": [
    {
     "data": {
      "text/plain": [
       "Pokemon\n",
       "Illumise                Bug\n",
       "Silcoon                 Bug\n",
       "Pinsir                  Bug\n",
       "Burmy                   Bug\n",
       "Wurmple                 Bug\n",
       "                  ...      \n",
       "Tirtouga       Water / Rock\n",
       "Relicanth      Water / Rock\n",
       "Corsola        Water / Rock\n",
       "Carracosta     Water / Rock\n",
       "Empoleon      Water / Steel\n",
       "Name: Type, Length: 809, dtype: object"
      ]
     },
     "execution_count": 15,
     "metadata": {},
     "output_type": "execute_result"
    }
   ],
   "source": [
    "pokemon.sort_values() # is the same as\n",
    "pokemon.sort_values(ascending = True)"
   ]
  },
  {
   "cell_type": "code",
   "execution_count": 16,
   "metadata": {},
   "outputs": [
    {
     "data": {
      "text/plain": [
       "Pokemon\n",
       "Empoleon      Water / Steel\n",
       "Carracosta     Water / Rock\n",
       "Corsola        Water / Rock\n",
       "Relicanth      Water / Rock\n",
       "Tirtouga       Water / Rock\n",
       "                  ...      \n",
       "Wurmple                 Bug\n",
       "Burmy                   Bug\n",
       "Pinsir                  Bug\n",
       "Silcoon                 Bug\n",
       "Illumise                Bug\n",
       "Name: Type, Length: 809, dtype: object"
      ]
     },
     "execution_count": 16,
     "metadata": {},
     "output_type": "execute_result"
    }
   ],
   "source": [
    "pokemon.sort_values(ascending = False)"
   ]
  },
  {
   "cell_type": "markdown",
   "metadata": {},
   "source": [
    "## Sorting a Series by Index"
   ]
  },
  {
   "cell_type": "code",
   "execution_count": 17,
   "metadata": {},
   "outputs": [
    {
     "data": {
      "text/plain": [
       "Pokemon\n",
       "Bulbasaur     Grass / Poison\n",
       "Ivysaur       Grass / Poison\n",
       "Venusaur      Grass / Poison\n",
       "Charmander              Fire\n",
       "Charmeleon              Fire\n",
       "Name: Type, dtype: object"
      ]
     },
     "execution_count": 17,
     "metadata": {},
     "output_type": "execute_result"
    }
   ],
   "source": [
    "pokemon.head()"
   ]
  },
  {
   "cell_type": "code",
   "execution_count": 18,
   "metadata": {},
   "outputs": [
    {
     "data": {
      "text/plain": [
       "Pokemon\n",
       "Abomasnow        Grass / Ice\n",
       "Abra                 Psychic\n",
       "Absol                   Dark\n",
       "Accelgor                 Bug\n",
       "Aegislash      Steel / Ghost\n",
       "                  ...       \n",
       "Zoroark                 Dark\n",
       "Zorua                   Dark\n",
       "Zubat        Poison / Flying\n",
       "Zweilous       Dark / Dragon\n",
       "Zygarde      Dragon / Ground\n",
       "Name: Type, Length: 809, dtype: object"
      ]
     },
     "execution_count": 18,
     "metadata": {},
     "output_type": "execute_result"
    }
   ],
   "source": [
    "pokemon.sort_index() # is the same as\n",
    "pokemon.sort_index(ascending = True)"
   ]
  },
  {
   "cell_type": "code",
   "execution_count": 19,
   "metadata": {},
   "outputs": [
    {
     "data": {
      "text/plain": [
       "Pokemon\n",
       "Zygarde      Dragon / Ground\n",
       "Zweilous       Dark / Dragon\n",
       "Zubat        Poison / Flying\n",
       "Zorua                   Dark\n",
       "Zoroark                 Dark\n",
       "                  ...       \n",
       "Aegislash      Steel / Ghost\n",
       "Accelgor                 Bug\n",
       "Absol                   Dark\n",
       "Abra                 Psychic\n",
       "Abomasnow        Grass / Ice\n",
       "Name: Type, Length: 809, dtype: object"
      ]
     },
     "execution_count": 19,
     "metadata": {},
     "output_type": "execute_result"
    }
   ],
   "source": [
    "pokemon.sort_index(ascending = False)"
   ]
  },
  {
   "cell_type": "markdown",
   "metadata": {},
   "source": [
    "## The `inplace` Parameter"
   ]
  },
  {
   "cell_type": "code",
   "execution_count": 20,
   "metadata": {},
   "outputs": [
    {
     "data": {
      "text/plain": [
       "Pokemon\n",
       "Illumise    Bug\n",
       "Silcoon     Bug\n",
       "Pinsir      Bug\n",
       "Burmy       Bug\n",
       "Wurmple     Bug\n",
       "Name: Type, dtype: object"
      ]
     },
     "execution_count": 20,
     "metadata": {},
     "output_type": "execute_result"
    }
   ],
   "source": [
    "# Does NOT mutate original Series\n",
    "pokemon.sort_values()\n",
    "\n",
    "# Mutates original Series\n",
    "pokemon.sort_values(inplace = True)\n",
    "\n",
    "pokemon.head()"
   ]
  },
  {
   "cell_type": "code",
   "execution_count": 21,
   "metadata": {},
   "outputs": [
    {
     "data": {
      "text/plain": [
       "Pokemon\n",
       "Abomasnow      Grass / Ice\n",
       "Abra               Psychic\n",
       "Absol                 Dark\n",
       "Accelgor               Bug\n",
       "Aegislash    Steel / Ghost\n",
       "Name: Type, dtype: object"
      ]
     },
     "execution_count": 21,
     "metadata": {},
     "output_type": "execute_result"
    }
   ],
   "source": [
    "# Does NOT mutate original Series\n",
    "pokemon.sort_index()\n",
    "\n",
    "# Mutates original Series\n",
    "pokemon.sort_index(inplace = True)\n",
    "\n",
    "pokemon.head()"
   ]
  },
  {
   "cell_type": "markdown",
   "metadata": {},
   "source": [
    "## The `value_counts` Method"
   ]
  },
  {
   "cell_type": "code",
   "execution_count": 22,
   "metadata": {},
   "outputs": [
    {
     "data": {
      "text/plain": [
       "Normal             65\n",
       "Water              61\n",
       "Grass              38\n",
       "Psychic            35\n",
       "Fire               30\n",
       "                   ..\n",
       "Flying              1\n",
       "Fire / Rock         1\n",
       "Steel / Dragon      1\n",
       "Ghost / Dark        1\n",
       "Normal / Dragon     1\n",
       "Name: Type, Length: 159, dtype: int64"
      ]
     },
     "execution_count": 22,
     "metadata": {},
     "output_type": "execute_result"
    }
   ],
   "source": [
    "pokemon.value_counts()"
   ]
  },
  {
   "cell_type": "code",
   "execution_count": 23,
   "metadata": {},
   "outputs": [
    {
     "data": {
      "text/plain": [
       "Normal / Dragon     1\n",
       "Ghost / Dark        1\n",
       "Steel / Dragon      1\n",
       "Fire / Rock         1\n",
       "Flying              1\n",
       "                   ..\n",
       "Fire               30\n",
       "Psychic            35\n",
       "Grass              38\n",
       "Water              61\n",
       "Normal             65\n",
       "Name: Type, Length: 159, dtype: int64"
      ]
     },
     "execution_count": 23,
     "metadata": {},
     "output_type": "execute_result"
    }
   ],
   "source": [
    "pokemon.value_counts(ascending = True)"
   ]
  },
  {
   "cell_type": "code",
   "execution_count": 24,
   "metadata": {},
   "outputs": [
    {
     "data": {
      "text/plain": [
       "Normal             0.080346\n",
       "Water              0.075402\n",
       "Grass              0.046972\n",
       "Psychic            0.043263\n",
       "Fire               0.037083\n",
       "                     ...   \n",
       "Flying             0.001236\n",
       "Fire / Rock        0.001236\n",
       "Steel / Dragon     0.001236\n",
       "Ghost / Dark       0.001236\n",
       "Normal / Dragon    0.001236\n",
       "Name: Type, Length: 159, dtype: float64"
      ]
     },
     "execution_count": 24,
     "metadata": {},
     "output_type": "execute_result"
    }
   ],
   "source": [
    "pokemon.value_counts(normalize = True)"
   ]
  },
  {
   "cell_type": "code",
   "execution_count": 25,
   "metadata": {},
   "outputs": [
    {
     "data": {
      "text/plain": [
       "Normal             8.034611\n",
       "Water              7.540173\n",
       "Grass              4.697157\n",
       "Psychic            4.326329\n",
       "Fire               3.708282\n",
       "                     ...   \n",
       "Flying             0.123609\n",
       "Fire / Rock        0.123609\n",
       "Steel / Dragon     0.123609\n",
       "Ghost / Dark       0.123609\n",
       "Normal / Dragon    0.123609\n",
       "Name: Type, Length: 159, dtype: float64"
      ]
     },
     "execution_count": 25,
     "metadata": {},
     "output_type": "execute_result"
    }
   ],
   "source": [
    "pokemon.value_counts(normalize = True) * 100"
   ]
  },
  {
   "cell_type": "markdown",
   "metadata": {},
   "source": [
    "## Uniqueness"
   ]
  },
  {
   "cell_type": "code",
   "execution_count": 26,
   "metadata": {},
   "outputs": [
    {
     "data": {
      "text/plain": [
       "159"
      ]
     },
     "execution_count": 26,
     "metadata": {},
     "output_type": "execute_result"
    }
   ],
   "source": [
    "pokemon.nunique()"
   ]
  },
  {
   "cell_type": "code",
   "execution_count": 27,
   "metadata": {},
   "outputs": [
    {
     "data": {
      "text/plain": [
       "array(['Grass / Ice', 'Psychic', 'Dark', 'Bug', 'Steel / Ghost',\n",
       "       'Rock / Flying', 'Steel / Rock', 'Normal', 'Water',\n",
       "       'Dragon / Flying', 'Rock / Ice', 'Grass / Poison', 'Electric',\n",
       "       'Rock / Bug', 'Water / Bug', 'Poison', 'Fire', 'Bug / Poison',\n",
       "       'Fairy', 'Ice / Flying', 'Ice', 'Dragon', 'Water / Fairy',\n",
       "       'Normal / Fairy', 'Ground / Psychic', 'Ghost', 'Rock / Water',\n",
       "       'Water / Ground', 'Rock / Steel', 'Grass', 'Bug / Flying',\n",
       "       'Steel / Psychic', 'Normal / Fighting', 'Normal / Water',\n",
       "       'Dark / Steel', 'Fire / Ghost', 'Fire / Fighting', 'Rock',\n",
       "       'Normal / Flying', 'Grass / Fighting', 'Water / Psychic',\n",
       "       'Bug / Fighting', 'Grass / Dark', 'Fire / Ground', 'Rock / Fairy',\n",
       "       'Water / Rock', 'Water / Dark', 'Psychic / Grass',\n",
       "       'Steel / Flying', 'Ghost / Fire', 'Fire / Flying',\n",
       "       'Bug / Electric', 'Water / Electric', 'Water / Ice',\n",
       "       'Steel / Fighting', 'Fighting', 'Grass / Fairy', 'Fighting / Ice',\n",
       "       'Rock / Grass', 'Poison / Fighting', 'Poison / Flying',\n",
       "       'Bug / Rock', 'Ground', 'Bug / Fairy', 'Grass / Flying',\n",
       "       'Grass / Ghost', 'Electric / Fairy', 'Normal / Grass',\n",
       "       'Dark / Dragon', 'Fire / Psychic', 'Ghost / Grass',\n",
       "       'Steel / Dragon', 'Normal / Ground', 'Poison / Dragon',\n",
       "       'Normal / Dragon', 'Poison / Dark', 'Ghost / Flying',\n",
       "       'Water / Flying', 'Bug / Steel', 'Electric / Flying',\n",
       "       'Water / Steel', 'Ground / Steel', 'Grass / Psychic',\n",
       "       'Grass / Steel', 'Ground / Dragon', 'Water / Ghost', 'Ice / Ghost',\n",
       "       'Dragon / Ground', 'Psychic / Fighting', 'Psychic / Fairy',\n",
       "       'Ghost / Poison', 'Rock / Ground', 'Normal / Psychic',\n",
       "       'Ghost / Dragon', 'Ground / Flying', 'Ground / Ghost',\n",
       "       'Bug / Water', 'Dragon / Fighting', 'Fighting / Flying',\n",
       "       'Fire / Steel', 'Electric / Normal', 'Dark / Flying',\n",
       "       'Psychic / Ghost', 'Dark / Fire', 'Fire / Dark', 'Dark / Psychic',\n",
       "       'Ice / Psychic', 'Water / Fighting', 'Water / Dragon', 'Steel',\n",
       "       'Steel / Fairy', 'Ground / Dark', 'Dragon / Ice', 'Bug / Fire',\n",
       "       'Dragon / Psychic', 'Bug / Grass', 'Fire / Normal',\n",
       "       'Water / Grass', 'Fighting / Steel', 'Psychic / Flying',\n",
       "       'Rock / Psychic', 'Fire / Rock', 'Electric / Steel',\n",
       "       'Ice / Ground', 'Poison / Water', 'Fighting / Ghost',\n",
       "       'Fighting / Psychic', 'Ghost / Fairy', 'Poison / Ground',\n",
       "       'Rock / Poison', 'Bug / Ground', 'Flying / Dragon',\n",
       "       'Ghost / Ground', 'Fighting / Dark', 'Water / Poison',\n",
       "       'Dragon / Fire', 'Ground / Rock', 'Electric / Ghost',\n",
       "       'Dark / Ghost', 'Poison / Fire', 'Dark / Fighting', 'Ice / Water',\n",
       "       'Bug / Ghost', 'Poison / Bug', 'Dark / Ice', 'Psychic / Steel',\n",
       "       'Ghost / Dark', 'Steel / Ground', 'Ground / Electric',\n",
       "       'Rock / Fighting', 'Fairy / Flying', 'Flying', 'Grass / Ground',\n",
       "       'Fire / Dragon', 'Rock / Dark', 'Rock / Dragon', 'Psychic / Fire',\n",
       "       'Fire / Water', 'Dragon / Electric'], dtype=object)"
      ]
     },
     "execution_count": 27,
     "metadata": {},
     "output_type": "execute_result"
    }
   ],
   "source": [
    "pokemon.unique()"
   ]
  },
  {
   "cell_type": "code",
   "execution_count": 28,
   "metadata": {},
   "outputs": [
    {
     "data": {
      "text/plain": [
       "Pokemon\n",
       "Abomasnow          Grass / Ice\n",
       "Abra                   Psychic\n",
       "Absol                     Dark\n",
       "Accelgor                   Bug\n",
       "Aegislash        Steel / Ghost\n",
       "                   ...        \n",
       "Tyranitar          Rock / Dark\n",
       "Tyrantrum        Rock / Dragon\n",
       "Victini         Psychic / Fire\n",
       "Volcanion         Fire / Water\n",
       "Zekrom       Dragon / Electric\n",
       "Name: Type, Length: 159, dtype: object"
      ]
     },
     "execution_count": 28,
     "metadata": {},
     "output_type": "execute_result"
    }
   ],
   "source": [
    "# Drops all duplicates after first occurrence of a unique value\n",
    "pokemon.drop_duplicates()"
   ]
  },
  {
   "cell_type": "markdown",
   "metadata": {},
   "source": [
    "## Select Rows by Index Position"
   ]
  },
  {
   "cell_type": "code",
   "execution_count": 29,
   "metadata": {},
   "outputs": [
    {
     "data": {
      "text/plain": [
       "Pokemon\n",
       "Abomasnow      Grass / Ice\n",
       "Abra               Psychic\n",
       "Absol                 Dark\n",
       "Accelgor               Bug\n",
       "Aegislash    Steel / Ghost\n",
       "Name: Type, dtype: object"
      ]
     },
     "execution_count": 29,
     "metadata": {},
     "output_type": "execute_result"
    }
   ],
   "source": [
    "pokemon.head()"
   ]
  },
  {
   "cell_type": "code",
   "execution_count": 30,
   "metadata": {},
   "outputs": [
    {
     "data": {
      "text/plain": [
       "'Grass / Ice'"
      ]
     },
     "execution_count": 30,
     "metadata": {},
     "output_type": "execute_result"
    }
   ],
   "source": [
    "pokemon.iloc[0]"
   ]
  },
  {
   "cell_type": "code",
   "execution_count": 31,
   "metadata": {},
   "outputs": [
    {
     "data": {
      "text/plain": [
       "'Grass / Fighting'"
      ]
     },
     "execution_count": 31,
     "metadata": {},
     "output_type": "execute_result"
    }
   ],
   "source": [
    "pokemon.iloc[100]"
   ]
  },
  {
   "cell_type": "code",
   "execution_count": 32,
   "metadata": {},
   "outputs": [],
   "source": [
    "# IndexError - index 1000 does not exist\n",
    "# pokemon.iloc[10000]"
   ]
  },
  {
   "cell_type": "code",
   "execution_count": 33,
   "metadata": {},
   "outputs": [
    {
     "data": {
      "text/plain": [
       "Pokemon\n",
       "Abomasnow       Grass / Ice\n",
       "Accelgor                Bug\n",
       "Aerodactyl    Rock / Flying\n",
       "Name: Type, dtype: object"
      ]
     },
     "execution_count": 33,
     "metadata": {},
     "output_type": "execute_result"
    }
   ],
   "source": [
    "pokemon.iloc[[0, 3, 5]]"
   ]
  },
  {
   "cell_type": "code",
   "execution_count": 34,
   "metadata": {},
   "outputs": [],
   "source": [
    "# IndexError - index 1000 does not exist\n",
    "# pokemon.iloc[[0, 3, 5, 3000]]"
   ]
  },
  {
   "cell_type": "code",
   "execution_count": 35,
   "metadata": {},
   "outputs": [
    {
     "data": {
      "text/plain": [
       "Pokemon\n",
       "Chespin      Grass\n",
       "Chikorita    Grass\n",
       "Chimchar      Fire\n",
       "Name: Type, dtype: object"
      ]
     },
     "execution_count": 35,
     "metadata": {},
     "output_type": "execute_result"
    }
   ],
   "source": [
    "pokemon.iloc[101:104] # 104 is exclusive"
   ]
  },
  {
   "cell_type": "code",
   "execution_count": 36,
   "metadata": {},
   "outputs": [
    {
     "data": {
      "text/plain": [
       "Pokemon\n",
       "Zapdos       Electric / Flying\n",
       "Zebstrika             Electric\n",
       "Zekrom       Dragon / Electric\n",
       "Zeraora               Electric\n",
       "Zigzagoon               Normal\n",
       "Zoroark                   Dark\n",
       "Zorua                     Dark\n",
       "Name: Type, dtype: object"
      ]
     },
     "execution_count": 36,
     "metadata": {},
     "output_type": "execute_result"
    }
   ],
   "source": [
    "pokemon.iloc[-10:-3]"
   ]
  },
  {
   "cell_type": "code",
   "execution_count": 37,
   "metadata": {},
   "outputs": [
    {
     "data": {
      "text/plain": [
       "Pokemon\n",
       "Zekrom       Dragon / Electric\n",
       "Zeraora               Electric\n",
       "Zigzagoon               Normal\n",
       "Zoroark                   Dark\n",
       "Zorua                     Dark\n",
       "Zubat          Poison / Flying\n",
       "Zweilous         Dark / Dragon\n",
       "Zygarde        Dragon / Ground\n",
       "Name: Type, dtype: object"
      ]
     },
     "execution_count": 37,
     "metadata": {},
     "output_type": "execute_result"
    }
   ],
   "source": [
    "pokemon.iloc[-8:] # equivalent to tail method"
   ]
  },
  {
   "cell_type": "code",
   "execution_count": 38,
   "metadata": {},
   "outputs": [
    {
     "data": {
      "text/plain": [
       "Pokemon\n",
       "Abomasnow    Grass / Ice\n",
       "Abra             Psychic\n",
       "Absol               Dark\n",
       "Accelgor             Bug\n",
       "Name: Type, dtype: object"
      ]
     },
     "execution_count": 38,
     "metadata": {},
     "output_type": "execute_result"
    }
   ],
   "source": [
    "pokemon[:4] # equivalent to head method"
   ]
  },
  {
   "cell_type": "markdown",
   "metadata": {},
   "source": [
    "## Select Rows by Index Label"
   ]
  },
  {
   "cell_type": "code",
   "execution_count": 39,
   "metadata": {},
   "outputs": [
    {
     "data": {
      "text/plain": [
       "'Electric'"
      ]
     },
     "execution_count": 39,
     "metadata": {},
     "output_type": "execute_result"
    }
   ],
   "source": [
    "pokemon.loc[\"Pikachu\"]"
   ]
  },
  {
   "cell_type": "code",
   "execution_count": 40,
   "metadata": {},
   "outputs": [
    {
     "data": {
      "text/plain": [
       "'Fire / Flying'"
      ]
     },
     "execution_count": 40,
     "metadata": {},
     "output_type": "execute_result"
    }
   ],
   "source": [
    "pokemon.loc[\"Charizard\"]"
   ]
  },
  {
   "cell_type": "code",
   "execution_count": 41,
   "metadata": {},
   "outputs": [
    {
     "data": {
      "text/plain": [
       "Pokemon\n",
       "Pikachu             Electric\n",
       "Mewtwo               Psychic\n",
       "Dragonite    Dragon / Flying\n",
       "Name: Type, dtype: object"
      ]
     },
     "execution_count": 41,
     "metadata": {},
     "output_type": "execute_result"
    }
   ],
   "source": [
    "pokemon.loc[[\"Pikachu\", \"Mewtwo\", \"Dragonite\"]]"
   ]
  },
  {
   "cell_type": "code",
   "execution_count": 42,
   "metadata": {},
   "outputs": [],
   "source": [
    "# KeyError - \"Digimon\" does not exist\n",
    "# pokemon.loc[\"Digimon\"]"
   ]
  },
  {
   "cell_type": "markdown",
   "metadata": {},
   "source": [
    "## BONUS: Review with Numeric Dataset"
   ]
  },
  {
   "cell_type": "code",
   "execution_count": 43,
   "metadata": {},
   "outputs": [
    {
     "data": {
      "text/plain": [
       "Date\n",
       "2004-08-19    49.98\n",
       "2004-08-20    53.95\n",
       "2004-08-23    54.50\n",
       "2004-08-24    52.24\n",
       "2004-08-25    52.80\n",
       "Name: Close, dtype: float64"
      ]
     },
     "execution_count": 43,
     "metadata": {},
     "output_type": "execute_result"
    }
   ],
   "source": [
    "pd.read_csv(\"google_stocks.csv\")\n",
    "pd.read_csv(\"google_stocks.csv\", index_col = \"Date\")\n",
    "pd.read_csv(\"google_stocks.csv\", index_col = \"Date\", squeeze = True).head()"
   ]
  },
  {
   "cell_type": "code",
   "execution_count": 44,
   "metadata": {},
   "outputs": [
    {
     "data": {
      "text/plain": [
       "Date\n",
       "2004-08-19    49.98\n",
       "2004-08-20    53.95\n",
       "2004-08-23    54.50\n",
       "2004-08-24    52.24\n",
       "2004-08-25    52.80\n",
       "Name: Close, dtype: float64"
      ]
     },
     "execution_count": 44,
     "metadata": {},
     "output_type": "execute_result"
    }
   ],
   "source": [
    "pd.read_csv(\n",
    "    \"google_stocks.csv\",\n",
    "    index_col = \"Date\",\n",
    "    squeeze = True,\n",
    "    parse_dates = [\"Date\"]\n",
    ").head()"
   ]
  },
  {
   "cell_type": "code",
   "execution_count": 45,
   "metadata": {},
   "outputs": [],
   "source": [
    "google = pd.read_csv(\n",
    "    \"google_stocks.csv\",\n",
    "    index_col = \"Date\",\n",
    "    squeeze = True,\n",
    "    parse_dates = [\"Date\"]\n",
    ")"
   ]
  },
  {
   "cell_type": "code",
   "execution_count": 46,
   "metadata": {},
   "outputs": [
    {
     "data": {
      "text/plain": [
       "Date\n",
       "2004-08-19    49.98\n",
       "2004-08-20    53.95\n",
       "2004-08-23    54.50\n",
       "2004-08-24    52.24\n",
       "2004-08-25    52.80\n",
       "Name: Close, dtype: float64"
      ]
     },
     "execution_count": 46,
     "metadata": {},
     "output_type": "execute_result"
    }
   ],
   "source": [
    "google.head()"
   ]
  },
  {
   "cell_type": "code",
   "execution_count": 47,
   "metadata": {},
   "outputs": [
    {
     "data": {
      "text/plain": [
       "Date\n",
       "2019-10-21    1246.15\n",
       "2019-10-22    1242.80\n",
       "2019-10-23    1259.13\n",
       "2019-10-24    1260.99\n",
       "2019-10-25    1265.13\n",
       "Name: Close, dtype: float64"
      ]
     },
     "execution_count": 47,
     "metadata": {},
     "output_type": "execute_result"
    }
   ],
   "source": [
    "google.tail()"
   ]
  },
  {
   "cell_type": "code",
   "execution_count": 48,
   "metadata": {},
   "outputs": [
    {
     "data": {
      "text/plain": [
       "Date\n",
       "2019-04-29    1287.58\n",
       "2019-04-26    1272.18\n",
       "2018-07-26    1268.33\n",
       "2019-10-25    1265.13\n",
       "2019-04-23    1264.55\n",
       "               ...   \n",
       "2004-09-07      50.60\n",
       "2004-09-02      50.57\n",
       "2004-08-19      49.98\n",
       "2004-09-01      49.94\n",
       "2004-09-03      49.82\n",
       "Name: Close, Length: 3824, dtype: float64"
      ]
     },
     "execution_count": 48,
     "metadata": {},
     "output_type": "execute_result"
    }
   ],
   "source": [
    "google.sort_values() # is the same as\n",
    "google.sort_values(ascending = True)\n",
    "\n",
    "google.sort_values(ascending = False)"
   ]
  },
  {
   "cell_type": "code",
   "execution_count": 49,
   "metadata": {},
   "outputs": [
    {
     "data": {
      "text/plain": [
       "Date\n",
       "2019-04-29    1287.58\n",
       "2019-04-26    1272.18\n",
       "2018-07-26    1268.33\n",
       "2019-10-25    1265.13\n",
       "2019-04-23    1264.55\n",
       "Name: Close, dtype: float64"
      ]
     },
     "execution_count": 49,
     "metadata": {},
     "output_type": "execute_result"
    }
   ],
   "source": [
    "google.sort_values(ascending = False, inplace = True)\n",
    "\n",
    "google.head()"
   ]
  },
  {
   "cell_type": "code",
   "execution_count": 50,
   "metadata": {},
   "outputs": [
    {
     "data": {
      "text/plain": [
       "Date\n",
       "2004-08-19      49.98\n",
       "2004-08-20      53.95\n",
       "2004-08-23      54.50\n",
       "2004-08-24      52.24\n",
       "2004-08-25      52.80\n",
       "               ...   \n",
       "2019-10-21    1246.15\n",
       "2019-10-22    1242.80\n",
       "2019-10-23    1259.13\n",
       "2019-10-24    1260.99\n",
       "2019-10-25    1265.13\n",
       "Name: Close, Length: 3824, dtype: float64"
      ]
     },
     "execution_count": 50,
     "metadata": {},
     "output_type": "execute_result"
    }
   ],
   "source": [
    "google.sort_index()"
   ]
  },
  {
   "cell_type": "code",
   "execution_count": 51,
   "metadata": {},
   "outputs": [
    {
     "data": {
      "text/plain": [
       "1195.31"
      ]
     },
     "execution_count": 51,
     "metadata": {},
     "output_type": "execute_result"
    }
   ],
   "source": [
    "google.iloc[100]"
   ]
  },
  {
   "cell_type": "code",
   "execution_count": 52,
   "metadata": {},
   "outputs": [
    {
     "data": {
      "text/plain": [
       "Date\n",
       "2010-04-12    285.3\n",
       "Name: Close, dtype: float64"
      ]
     },
     "execution_count": 52,
     "metadata": {},
     "output_type": "execute_result"
    }
   ],
   "source": [
    "google.loc[\"2010-04-12\"]"
   ]
  }
 ],
 "metadata": {
  "kernelspec": {
   "display_name": "Python 3",
   "language": "python",
   "name": "python3"
  },
  "language_info": {
   "codemirror_mode": {
    "name": "ipython",
    "version": 3
   },
   "file_extension": ".py",
   "mimetype": "text/x-python",
   "name": "python",
   "nbconvert_exporter": "python",
   "pygments_lexer": "ipython3",
   "version": "3.7.7"
  }
 },
 "nbformat": 4,
 "nbformat_minor": 4
}
